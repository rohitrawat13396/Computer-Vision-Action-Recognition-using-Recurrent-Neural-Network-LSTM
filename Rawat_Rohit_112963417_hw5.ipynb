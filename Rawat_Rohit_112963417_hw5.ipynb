{
  "nbformat": 4,
  "nbformat_minor": 0,
  "metadata": {
    "accelerator": "GPU",
    "anaconda-cloud": {},
    "colab": {
      "name": "Rawat_Rohit_112963417_hw5.ipynb",
      "provenance": [],
      "collapsed_sections": [],
      "machine_shape": "hm"
    },
    "kernelspec": {
      "display_name": "Python 3",
      "language": "python",
      "name": "python3"
    },
    "language_info": {
      "codemirror_mode": {
        "name": "ipython",
        "version": 3
      },
      "file_extension": ".py",
      "mimetype": "text/x-python",
      "name": "python",
      "nbconvert_exporter": "python",
      "pygments_lexer": "ipython3",
      "version": "3.6.9"
    }
  },
  "cells": [
    {
      "cell_type": "markdown",
      "metadata": {
        "colab_type": "text",
        "id": "AcamCuuyjYb2"
      },
      "source": [
        "# Action Recognition @ UCF101  \n",
        "**Due date: 11:59 pm on Nov. 19, 2019 (Tuesday)**\n",
        "\n",
        "## Description\n",
        "---\n",
        "In this homework, you will be doing action recognition using Recurrent Neural Network (RNN), (Long-Short Term Memory) LSTM in particular. You will be given a dataset called UCF101, which consists of 101 different actions/classes and for each action, there will be 145 samples. We tagged each sample into either training or testing. Each sample is supposed to be a short video, but we sampled 25 frames from each videos to reduce the amount of data. Consequently, a training sample is an image tuple that forms a 3D volume with one dimension encoding *temporal correlation* between frames and a label indicating what action it is.\n",
        "\n",
        "To tackle this problem, we aim to build a neural network that can not only capture spatial information of each frame but also temporal information between frames. Fortunately, you don't have to do this on your own. RNN — a type of neural network designed to deal with time-series data — is right here for you to use. In particular, you will be using LSTM for this task.\n",
        "\n",
        "Instead of training an end-to-end neural network from scratch whose computation is prohibitively expensive, we divide this into two steps: feature extraction and modelling. Below are the things you need to implement for this homework:\n",
        "- **{35 pts} Feature extraction**. Use any of the [pre-trained models](https://pytorch.org/docs/stable/torchvision/models.html) to extract features from each frame. Specifically, we recommend not to use the activations of the last layer as the features tend to be task specific towards the end of the network. \n",
        "    **hints**: \n",
        "    - A good starting point would be to use a pre-trained VGG16 network, we suggest first fully connected layer `torchvision.models.vgg16` (4096 dim) as features of each video frame. This will result into a 4096x25 matrix for each video. \n",
        "    - Normalize your images using `torchvision.transforms` \n",
        "    ```\n",
        "    normalize = transforms.Normalize(mean=[0.485, 0.456, 0.406], std=[0.229, 0.224, 0.225])\n",
        "    prep = transforms.Compose([ transforms.ToTensor(), normalize ])\n",
        "    prep(img)\n",
        "    The mean and std. mentioned above is specific to Imagenet data\n",
        "    \n",
        "    ```\n",
        "    More details of image preprocessing in PyTorch can be found at http://pytorch.org/tutorials/beginner/data_loading_tutorial.html\n",
        "    \n",
        "- **{35 pts} Modelling**. With the extracted features, build an LSTM network which takes a **dx25** sample as input (where **d** is the dimension of the extracted feature for each frame), and outputs the action label of that sample.\n",
        "- **{20 pts} Evaluation**. After training your network, you need to evaluate your model with the testing data by computing the prediction accuracy **(5 points)**. The baseline test accuracy for this data is 75%, and **10 points** out of 20 is for achieving test accuracy greater than the baseline. Moreover, you need to compare **(5 points)** the result of your network with that of support vector machine (SVM) (stacking the **dx25** feature matrix to a long vector and train a SVM).\n",
        "- **{10 pts} Report**. Details regarding the report can be found in the submission section below.\n",
        "\n",
        "Notice that the size of the raw images is 256x340, whereas your pre-trained model might take **nxn** images as inputs. To solve this problem, instead of resizing the images which unfavorably changes the spatial ratio, we take a better solution: Cropping five **nxn** images, one at the image center and four at the corners and compute the **d**-dim features for each of them, and average these five **d**-dim feature to get a final feature representation for the raw image.\n",
        "For example, VGG takes 224x224 images as inputs, so we take the five 224x224 croppings of the image, compute 4096-dim VGG features for each of them, and then take the mean of these five 4096-dim vectors to be the representation of the image.\n",
        "\n",
        "In order to save you computational time, you need to do the classification task only for **the first 25** classes of the whole dataset. The same applies to those who have access to GPUs. **Bonus 10 points for running and reporting on the entire 101 classes.**\n",
        "\n",
        "\n",
        "## Dataset\n",
        "Download **dataset** at [UCF101](http://vision.cs.stonybrook.edu/~yangwang/public/UCF101_images.tar)(Image data for each video) and the **annos folder** which has the video labels and the label to class name mapping is included in the assignment folder uploaded. \n",
        "\n",
        "\n",
        "UCF101 dataset contains 101 actions and 13,320 videos in total.  \n",
        "\n",
        "+ `annos/actions.txt`  \n",
        "  + lists all the actions (`ApplyEyeMakeup`, .., `YoYo`)   \n",
        "  \n",
        "+ `annots/videos_labels_subsets.txt`  \n",
        "  + lists all the videos (`v_000001`, .., `v_013320`)  \n",
        "  + labels (`1`, .., `101`)  \n",
        "  + subsets (`1` for train, `2` for test)  \n",
        "\n",
        "+ `images/`  \n",
        "  + each folder represents a video\n",
        "  + the video/folder name to class mapping can be found using `annots/videos_labels_subsets.txt`, for e.g. `v_000001` belongs to class 1 i.e. `ApplyEyeMakeup`\n",
        "  + each video folder contains 25 frames  \n",
        "\n",
        "\n",
        "\n",
        "## Some Tutorials\n",
        "- Good materials for understanding RNN and LSTM\n",
        "    - http://blog.echen.me\n",
        "    - http://karpathy.github.io/2015/05/21/rnn-effectiveness/\n",
        "    - http://colah.github.io/posts/2015-08-Understanding-LSTMs/\n",
        "- Implementing RNN and LSTM with PyTorch\n",
        "    - [LSTM with PyTorch](http://pytorch.org/tutorials/beginner/nlp/sequence_models_tutorial.html#sphx-glr-beginner-nlp-sequence-models-tutorial-py)\n",
        "    - [RNN with PyTorch](http://pytorch.org/tutorials/intermediate/char_rnn_classification_tutorial.html)"
      ]
    },
    {
      "cell_type": "code",
      "metadata": {
        "id": "cYldt1yEF-jP",
        "colab_type": "code",
        "outputId": "a3eb4605-ba10-476d-88f8-e12a30a943e7",
        "colab": {
          "base_uri": "https://localhost:8080/",
          "height": 122
        }
      },
      "source": [
        "from google.colab import drive\n",
        "drive.mount('/content/gdrive')"
      ],
      "execution_count": 4,
      "outputs": [
        {
          "output_type": "stream",
          "text": [
            "Go to this URL in a browser: https://accounts.google.com/o/oauth2/auth?client_id=947318989803-6bn6qk8qdgf4n4g3pfee6491hc0brc4i.apps.googleusercontent.com&redirect_uri=urn%3aietf%3awg%3aoauth%3a2.0%3aoob&response_type=code&scope=email%20https%3a%2f%2fwww.googleapis.com%2fauth%2fdocs.test%20https%3a%2f%2fwww.googleapis.com%2fauth%2fdrive%20https%3a%2f%2fwww.googleapis.com%2fauth%2fdrive.photos.readonly%20https%3a%2f%2fwww.googleapis.com%2fauth%2fpeopleapi.readonly\n",
            "\n",
            "Enter your authorization code:\n",
            "··········\n",
            "Mounted at /content/gdrive\n"
          ],
          "name": "stdout"
        }
      ]
    },
    {
      "cell_type": "code",
      "metadata": {
        "id": "z_v5Zgr5GGKI",
        "colab_type": "code",
        "outputId": "c9376450-b685-4907-f189-1cf0bb71a9bd",
        "colab": {
          "base_uri": "https://localhost:8080/",
          "height": 34
        }
      },
      "source": [
        "cd 'gdrive/My Drive/CV/hw5/'"
      ],
      "execution_count": 5,
      "outputs": [
        {
          "output_type": "stream",
          "text": [
            "/content/gdrive/My Drive/CV/hw5\n"
          ],
          "name": "stdout"
        }
      ]
    },
    {
      "cell_type": "code",
      "metadata": {
        "id": "DkEQV5scSfKF",
        "colab_type": "code",
        "colab": {}
      },
      "source": [
        "# import packages here\n",
        "import cv2\n",
        "import numpy as np\n",
        "import matplotlib.pyplot as plt\n",
        "import glob\n",
        "import random \n",
        "import time\n",
        "from scipy import ndimage\n",
        "import gc \n",
        "import torch\n",
        "import torchvision\n",
        "import torchvision.transforms as transforms\n",
        "from torch.autograd import Variable\n",
        "import torch.nn as nn\n",
        "import torch.nn.functional as F\n",
        "from PIL import Image\n",
        "from skimage.transform import rotate\n",
        "import  tarfile\n",
        "\n",
        "\n",
        "import torch.optim as optim\n",
        "import random\n",
        "from sklearn.svm import SVC\n",
        "from sklearn.metrics import accuracy_score\n"
      ],
      "execution_count": 0,
      "outputs": []
    },
    {
      "cell_type": "code",
      "metadata": {
        "id": "LsG3CJcGP2no",
        "colab_type": "code",
        "colab": {}
      },
      "source": [
        "# untarring the tar file to extract the vido folders\n",
        "tar = tarfile.open(\"UCF101_images.tar\", \"r:\")\n",
        "tar.extractall()\n",
        "tar.close()"
      ],
      "execution_count": 0,
      "outputs": []
    },
    {
      "cell_type": "markdown",
      "metadata": {
        "colab_type": "text",
        "id": "UdCRwkL7jxtc"
      },
      "source": [
        "---\n",
        "---\n",
        "## **Problem 1.** Feature extraction"
      ]
    },
    {
      "cell_type": "code",
      "metadata": {
        "id": "UnUY14kYKZaE",
        "colab_type": "code",
        "colab": {}
      },
      "source": [
        "foldernames = [name[9:] for name in glob.glob('./images/*')]\n",
        "foldernames.sort()\n",
        "raw_folders = dict(zip(range(1,len(foldernames)+1), foldernames))\n",
        "\n",
        "f= open('./annos/videos_labels_subsets.txt')\n",
        "video_labels_subset =([line.split() for line in f]) \n",
        "\n",
        "res = {video_labels_subset[i][0]: video_labels_subset[i][1] for i in range(len(video_labels_subset))} \n",
        "data_set_dict = {video_labels_subset[i][0]: video_labels_subset[i][2] for i in range(len(video_labels_subset))} "
      ],
      "execution_count": 0,
      "outputs": []
    },
    {
      "cell_type": "code",
      "metadata": {
        "id": "gSqdMAYyeqb5",
        "colab_type": "code",
        "outputId": "79cfd487-1e1d-4ab2-aaf9-765ce61e9c24",
        "colab": {
          "base_uri": "https://localhost:8080/",
          "height": 51
        }
      },
      "source": [
        "import torch.optim as optim\n",
        "\n",
        "vgg = torchvision.models.vgg16(pretrained = True)\n",
        "vgg.classifier = nn.Sequential(*list(vgg.classifier.children())[:-3])     # Removing last three layers\n",
        "vgg.cuda()            #Using GPU\n"
      ],
      "execution_count": 7,
      "outputs": [
        {
          "output_type": "stream",
          "text": [
            "Downloading: \"https://download.pytorch.org/models/vgg16-397923af.pth\" to /root/.cache/torch/checkpoints/vgg16-397923af.pth\n",
            "100%|██████████| 528M/528M [00:42<00:00, 13.0MB/s]\n"
          ],
          "name": "stderr"
        }
      ]
    },
    {
      "cell_type": "code",
      "metadata": {
        "id": "8UEGJ9rafsak",
        "colab_type": "code",
        "outputId": "ca4192bf-3f6d-4d48-92fe-94aa8cda4e46",
        "colab": {
          "base_uri": "https://localhost:8080/",
          "height": 722
        }
      },
      "source": [
        "vgg"
      ],
      "execution_count": 0,
      "outputs": [
        {
          "output_type": "execute_result",
          "data": {
            "text/plain": [
              "VGG(\n",
              "  (features): Sequential(\n",
              "    (0): Conv2d(3, 64, kernel_size=(3, 3), stride=(1, 1), padding=(1, 1))\n",
              "    (1): ReLU(inplace=True)\n",
              "    (2): Conv2d(64, 64, kernel_size=(3, 3), stride=(1, 1), padding=(1, 1))\n",
              "    (3): ReLU(inplace=True)\n",
              "    (4): MaxPool2d(kernel_size=2, stride=2, padding=0, dilation=1, ceil_mode=False)\n",
              "    (5): Conv2d(64, 128, kernel_size=(3, 3), stride=(1, 1), padding=(1, 1))\n",
              "    (6): ReLU(inplace=True)\n",
              "    (7): Conv2d(128, 128, kernel_size=(3, 3), stride=(1, 1), padding=(1, 1))\n",
              "    (8): ReLU(inplace=True)\n",
              "    (9): MaxPool2d(kernel_size=2, stride=2, padding=0, dilation=1, ceil_mode=False)\n",
              "    (10): Conv2d(128, 256, kernel_size=(3, 3), stride=(1, 1), padding=(1, 1))\n",
              "    (11): ReLU(inplace=True)\n",
              "    (12): Conv2d(256, 256, kernel_size=(3, 3), stride=(1, 1), padding=(1, 1))\n",
              "    (13): ReLU(inplace=True)\n",
              "    (14): Conv2d(256, 256, kernel_size=(3, 3), stride=(1, 1), padding=(1, 1))\n",
              "    (15): ReLU(inplace=True)\n",
              "    (16): MaxPool2d(kernel_size=2, stride=2, padding=0, dilation=1, ceil_mode=False)\n",
              "    (17): Conv2d(256, 512, kernel_size=(3, 3), stride=(1, 1), padding=(1, 1))\n",
              "    (18): ReLU(inplace=True)\n",
              "    (19): Conv2d(512, 512, kernel_size=(3, 3), stride=(1, 1), padding=(1, 1))\n",
              "    (20): ReLU(inplace=True)\n",
              "    (21): Conv2d(512, 512, kernel_size=(3, 3), stride=(1, 1), padding=(1, 1))\n",
              "    (22): ReLU(inplace=True)\n",
              "    (23): MaxPool2d(kernel_size=2, stride=2, padding=0, dilation=1, ceil_mode=False)\n",
              "    (24): Conv2d(512, 512, kernel_size=(3, 3), stride=(1, 1), padding=(1, 1))\n",
              "    (25): ReLU(inplace=True)\n",
              "    (26): Conv2d(512, 512, kernel_size=(3, 3), stride=(1, 1), padding=(1, 1))\n",
              "    (27): ReLU(inplace=True)\n",
              "    (28): Conv2d(512, 512, kernel_size=(3, 3), stride=(1, 1), padding=(1, 1))\n",
              "    (29): ReLU(inplace=True)\n",
              "    (30): MaxPool2d(kernel_size=2, stride=2, padding=0, dilation=1, ceil_mode=False)\n",
              "  )\n",
              "  (avgpool): AdaptiveAvgPool2d(output_size=(7, 7))\n",
              "  (classifier): Sequential(\n",
              "    (0): Linear(in_features=25088, out_features=4096, bias=True)\n",
              "    (1): ReLU(inplace=True)\n",
              "    (2): Dropout(p=0.5, inplace=False)\n",
              "    (3): Linear(in_features=4096, out_features=4096, bias=True)\n",
              "  )\n",
              ")"
            ]
          },
          "metadata": {
            "tags": []
          },
          "execution_count": 15
        }
      ]
    },
    {
      "cell_type": "code",
      "metadata": {
        "id": "Hl2BcyMkW-L0",
        "colab_type": "code",
        "colab": {}
      },
      "source": [
        "\n",
        "def load_dataset(No_of_classes, dataset_type = '1'):\n",
        "  \n",
        "  path = './images/'\n",
        "  data = []\n",
        "  label = []\n",
        "\n",
        "  for id, class_name in raw_folders.items():\n",
        "    #print(id,class_name)\n",
        "    if int(res[class_name]) < No_of_classes + 1:\n",
        "          img_path_class = glob.glob(path + class_name + '/*.jpg')\n",
        "          if data_set_dict[class_name] == dataset_type:\n",
        "            #size = size + 1\n",
        "            #if video_labels_subset[id][0] == class_name:\n",
        "            label.append(res[class_name])  \n",
        "            for filename in img_path_class:\n",
        "                im = Image.open(filename)\n",
        "                #data.append(im)\n",
        "\n",
        "                im1 = Image.Image.crop(im,box = (0,0,224,224))\n",
        "                im2 = Image.Image.crop(im,box = (116,0,340,224))\n",
        "                im3 = Image.Image.crop(im,box = (0,32,224,256))\n",
        "                im4 = Image.Image.crop(im,box = (116,32,340,256))\n",
        "                im5 = Image.Image.crop(im,box = (58,16,282,240))\n",
        "\n",
        "                normalize = transforms.Normalize(mean=[0.485, 0.456, 0.406], std=[0.229, 0.224, 0.225])\n",
        "                prep = transforms.Compose([ transforms.ToTensor(), normalize ])\n",
        "\n",
        "                im1 = prep(im1)\n",
        "                im2 = prep(im2)\n",
        "                im3 = prep(im3)\n",
        "                im4 = prep(im4)\n",
        "                im5 = prep(im5)\n",
        "\n",
        "\n",
        "                im1 = (im1).unsqueeze(0)\n",
        "                im2 = (im2).unsqueeze(0)\n",
        "                im3 = (im3).unsqueeze(0)\n",
        "                im4 = (im4).unsqueeze(0)\n",
        "                im5 = (im5).unsqueeze(0)\n",
        "\n",
        "                \n",
        "                im1 = (im1).cuda()\n",
        "                im2 = (im2).cuda()\n",
        "                im3 = (im3).cuda()\n",
        "                im4 = (im4).cuda()\n",
        "                im5 = (im5).cuda()\n",
        "\n",
        "                with torch.no_grad():\n",
        "                  im1 = vgg(im1)\n",
        "                  im2 = vgg(im2)\n",
        "                  im3 = vgg(im3)\n",
        "                  im4 = vgg(im4)\n",
        "                  im5 = vgg(im5)\n",
        "\n",
        "                im = (im1 + im2 + im3 + im4 + im5)/5\n",
        "\n",
        "                data.append(im)\n",
        "                gc.collect()\n",
        "  return data,label\n",
        "\n",
        "  \n",
        " \n",
        "\n"
      ],
      "execution_count": 0,
      "outputs": []
    },
    {
      "cell_type": "code",
      "metadata": {
        "id": "A_V6OKzYdtId",
        "colab_type": "code",
        "colab": {}
      },
      "source": [
        "#Extracting features for Train Videos\n",
        "data,label = load_dataset(No_of_classes, dataset_type = '1')"
      ],
      "execution_count": 0,
      "outputs": []
    },
    {
      "cell_type": "code",
      "metadata": {
        "id": "jJcitUS5eCq6",
        "colab_type": "code",
        "colab": {}
      },
      "source": [
        "#Extracting features for Test Videos\n",
        "test_data, test_label = load_dataset(No_of_classes=25, dataset_type = '2')"
      ],
      "execution_count": 0,
      "outputs": []
    },
    {
      "cell_type": "code",
      "metadata": {
        "colab_type": "code",
        "id": "ZIQsiE4XnV4O",
        "colab": {}
      },
      "source": [
        "#Saving Extracted features in Pickle files.\n",
        "import pickle\n",
        "import pandas as pd \n",
        "\n",
        "with open(\"train_data.pkl\", 'wb') as fiModel:\n",
        "    pickle.dump(data, fiModel,protocol=pickle.HIGHEST_PROTOCOL)\n",
        "\n",
        "with open(\"train_label.pkl\", 'wb') as fiModel2:\n",
        "    pickle.dump(label, fiModel2,protocol=pickle.HIGHEST_PROTOCOL)\n",
        "\n",
        "with open(\"test_data.pkl\", 'wb') as fiModel3:\n",
        "    pickle.dump(test_data, fiModel3,protocol=pickle.HIGHEST_PROTOCOL)\n",
        "\n",
        "with open(\"test_label.pkl\", 'wb') as fiModel4:\n",
        "    pickle.dump(test_label, fiModel4,protocol=pickle.HIGHEST_PROTOCOL)"
      ],
      "execution_count": 0,
      "outputs": []
    },
    {
      "cell_type": "code",
      "metadata": {
        "colab_type": "code",
        "id": "urKQi8oAjYb-",
        "colab": {}
      },
      "source": [
        "# Extracting features from Pickle files\n",
        "import pickle\n",
        "file = open('train_data.pkl', 'rb')\n",
        "train_data = pickle.load(file)\n",
        "file.close()\n",
        "\n",
        "file = open('train_label.pkl', 'rb')\n",
        "train_label = pickle.load(file)\n",
        "file.close()\n",
        "\n",
        "file = open('test_data.pkl', 'rb')\n",
        "test_data = pickle.load(file)\n",
        "file.close()\n",
        "\n",
        "file = open('test_label.pkl', 'rb')\n",
        "test_label = pickle.load(file)\n",
        "file.close()"
      ],
      "execution_count": 0,
      "outputs": []
    },
    {
      "cell_type": "markdown",
      "metadata": {
        "id": "uSrZcUvEwuol",
        "colab_type": "text"
      },
      "source": [
        "Reshaping the Train and Test data"
      ]
    },
    {
      "cell_type": "code",
      "metadata": {
        "id": "acH5WjXHUixs",
        "colab_type": "code",
        "colab": {}
      },
      "source": [
        "train = np.array(train_data)\n",
        "train = train.reshape(2409,25)\n",
        "\n",
        "tt =[]\n",
        "for im in train:\n",
        "  for im2 in im:\n",
        "    for im3 in im2:\n",
        "      im3 = im3.cpu()\n",
        "      tt.append(im3.numpy())\n",
        "\n",
        "train = np.array(tt)\n",
        "train_d = train.reshape(2409,25,4096)    "
      ],
      "execution_count": 0,
      "outputs": []
    },
    {
      "cell_type": "code",
      "metadata": {
        "id": "ROk44f0kU0fg",
        "colab_type": "code",
        "colab": {}
      },
      "source": [
        "test = np.array(test_data)\n",
        "test = test.reshape(951,25)\n",
        "\n",
        "tt =[]\n",
        "for im in test:\n",
        "  for im2 in im:\n",
        "    for im3 in im2:\n",
        "      im3 = im3.cpu()\n",
        "      tt.append(im3.numpy())\n",
        "\n",
        "test = np.array(tt)\n",
        "test_d = test.reshape(951,25,4096)  "
      ],
      "execution_count": 0,
      "outputs": []
    },
    {
      "cell_type": "markdown",
      "metadata": {
        "colab_type": "text",
        "id": "UN74WLWpl7zQ"
      },
      "source": [
        "***\n",
        "***\n",
        "## **Problem 2.** Modelling"
      ]
    },
    {
      "cell_type": "markdown",
      "metadata": {
        "colab_type": "text",
        "id": "Do5OSV9Mnmwy"
      },
      "source": [
        "* ##### **Print the size of your training and test data**"
      ]
    },
    {
      "cell_type": "code",
      "metadata": {
        "colab_type": "code",
        "id": "0EGU31IJn5_h",
        "outputId": "40491175-d5de-4aee-f43b-f4e8ec79a04f",
        "colab": {
          "base_uri": "https://localhost:8080/",
          "height": 51
        }
      },
      "source": [
        "# Don't hardcode the shape of train and test data\n",
        "print('Shape of training data is :',train_d.shape )\n",
        "print('Shape of test/validation data is :',test_d.shape )"
      ],
      "execution_count": 219,
      "outputs": [
        {
          "output_type": "stream",
          "text": [
            "Shape of training data is : (2409, 25, 4096)\n",
            "Shape of test/validation data is : (951, 25, 4096)\n"
          ],
          "name": "stdout"
        }
      ]
    },
    {
      "cell_type": "code",
      "metadata": {
        "colab_type": "code",
        "id": "uqshyjO3mHkt",
        "colab": {}
      },
      "source": [
        "# \\*write your codes for modelling using the extracted feature (You can use multiple cells, this is just a place holder)\n",
        "\n",
        "torch.manual_seed(1)\n",
        "\n",
        "class LSTM(nn.Module):\n",
        "\n",
        "    def __init__(self, input_dim, hidden_dim, batch_size, output_dim=1, num_layers=2):\n",
        "        super(LSTM, self).__init__()\n",
        "        self.input_dim = input_dim\n",
        "        self.hidden_dim = hidden_dim\n",
        "        self.batch_size = batch_size\n",
        "        self.num_layers = num_layers\n",
        "\n",
        "        self.lstm = nn.LSTM(self.input_dim, self.hidden_dim, self.num_layers)\n",
        "        self.linear = nn.Linear(self.hidden_dim, output_dim)\n",
        "\n",
        "    def init_hidden(self):\n",
        "        return (torch.zeros(self.num_layers, self.batch_size, self.hidden_dim).cuda(),\n",
        "                torch.zeros(self.num_layers, self.batch_size, self.hidden_dim).cuda())\n",
        "\n",
        "    def forward(self, input):\n",
        "        lstm_out, self.hidden = self.lstm(input.view(output_dim,self.batch_size,self.input_dim))\n",
        "        y_pred = self.linear(lstm_out[-1].view(self.batch_size, -1))\n",
        "        return y_pred.view(1,-1)\n",
        "\n",
        "batch_size = 1\n",
        "num_of_layers = 1\n",
        "input_size = 4096         # input size\n",
        "hidden_layers = 2000      # Number of hidden layers\n",
        "output_dim = 25           # Number of Classes i.e 25\n",
        "\n",
        "model = LSTM(input_size, hidden_layers, batch_size=batch_size, output_dim=output_dim, num_layers=num_of_layers)\n"
      ],
      "execution_count": 0,
      "outputs": []
    },
    {
      "cell_type": "code",
      "metadata": {
        "id": "aKSnET-JzoNj",
        "colab_type": "code",
        "colab": {}
      },
      "source": [
        "# Random index generation for shuffling the data\n",
        "ind = [i for i in range(2409)]\n",
        "index_generation = random.sample(ind, 2408)"
      ],
      "execution_count": 0,
      "outputs": []
    },
    {
      "cell_type": "code",
      "metadata": {
        "id": "C4EirNOqyoqW",
        "colab_type": "code",
        "colab": {}
      },
      "source": [
        "train_d_t = torch.FloatTensor(train_d)\n",
        "test_d_t = torch.FloatTensor(test_d)\n",
        "\n",
        "labels = [int(i) for i in train_label] \n",
        "testlbs = [int(i) for i in test_label] "
      ],
      "execution_count": 0,
      "outputs": []
    },
    {
      "cell_type": "code",
      "metadata": {
        "id": "0XfhUVVkPzr8",
        "colab_type": "code",
        "colab": {
          "base_uri": "https://localhost:8080/",
          "height": 204
        },
        "outputId": "2edc5486-645b-4c20-f12c-767f3996f37f"
      },
      "source": [
        "model.cuda()\n",
        "\n",
        "learning_rate = 0.01\n",
        "loss_fn = nn.CrossEntropyLoss() \n",
        "optimiser = optim.SGD(model.parameters(), lr=learning_rate) \n",
        "\n",
        "num_of_epochs = 10\n",
        "start_time = time.time()\n",
        "for epoch in range(num_of_epochs):\n",
        "\n",
        "    loss_epoch = 0\n",
        "    for i in index_generation:            # With Shuffling\n",
        "    #for i in range(0,len(train_d_t)):    # Without Shuffling\n",
        "\n",
        "        action_label = []\n",
        "        vid = train_d_t[i]                #Taking one video folder at a time\n",
        "        vid = vid.cuda()                  #alloting GPU\n",
        "        \n",
        "        action_label.append(int(labels[i])-1)   #subtracting 1 becuase our model predict between 0-24 for 25 classes.\n",
        "        action_label = torch.LongTensor(action_label)\n",
        "        action_label =action_label.cuda()  \n",
        "\n",
        "        model.zero_grad()                     # zero the parameter gradients\n",
        "        model.hidden = model.init_hidden()    # Initialise hidden state\n",
        "        y_pred = model(vid)                   # Training the model\n",
        "        loss = loss_fn(y_pred, action_label)  # Calculating Loss \n",
        "\n",
        "        loss_epoch += loss.item()\n",
        "\n",
        "        optimiser.zero_grad()  # Zero out gradient\n",
        "        loss.backward()        # Backward pass\n",
        "        optimiser.step()   \n",
        "\n",
        "    print('Epoch: ',epoch , 'Loss incurred: ',loss_epoch/len(train_d_t))\n",
        "time1 = time.time() - start_time\n",
        "print('Time Consumed to train the model: ',time1)"
      ],
      "execution_count": 39,
      "outputs": [
        {
          "output_type": "stream",
          "text": [
            "Epoch:  0 Loss incurred:  1.0021480861270313\n",
            "Epoch:  1 Loss incurred:  0.3394117249448847\n",
            "Epoch:  2 Loss incurred:  0.1384851119982449\n",
            "Epoch:  3 Loss incurred:  0.04763858632063559\n",
            "Epoch:  4 Loss incurred:  0.01846290594712982\n",
            "Epoch:  5 Loss incurred:  0.010244914039431296\n",
            "Epoch:  6 Loss incurred:  0.003850103958655611\n",
            "Epoch:  7 Loss incurred:  0.002614160650941335\n",
            "Epoch:  8 Loss incurred:  0.0020210219399470816\n",
            "Epoch:  9 Loss incurred:  0.0016474464514682084\n",
            "Time Consumed to train the model:  332.0369248390198\n"
          ],
          "name": "stdout"
        }
      ]
    },
    {
      "cell_type": "markdown",
      "metadata": {
        "colab_type": "text",
        "id": "v0znm2TMmsDZ"
      },
      "source": [
        "---\n",
        "---\n",
        "## **Problem 3.** Evaluation"
      ]
    },
    {
      "cell_type": "markdown",
      "metadata": {
        "id": "OyJ0uugqx0zk",
        "colab_type": "text"
      },
      "source": [
        "Predicting actions for Test and Train Data"
      ]
    },
    {
      "cell_type": "code",
      "metadata": {
        "colab_type": "code",
        "id": "ARtMhcbXmsXk",
        "colab": {
          "base_uri": "https://localhost:8080/",
          "height": 34
        },
        "outputId": "204fb782-3454-4d60-baec-56d5acdeea83"
      },
      "source": [
        "# \\*write your codes for evaluation (You can use multiple cells, this is just a place holder)\n",
        "start_time = time.time()\n",
        "\n",
        "with torch.no_grad():\n",
        "    correct = 0\n",
        "    for i in range(0,len(test_d_t)):\n",
        "        action_label=[]\n",
        "        vid = test_d_t[i].cuda()\n",
        "        action_label.append(int(testlbs[i])-1)\n",
        "        action_label = torch.LongTensor(action_label).cuda()\n",
        "        \n",
        "        model.hidden = model.init_hidden()\n",
        "        pred = model(vid)\n",
        "        _, predicted_label = torch.max(pred.data, 1)\n",
        "        correct += (predicted_label == action_label).sum().item()\n",
        "    \n",
        "    accuracy_test = correct/len(test_d_t)\n",
        "time2 = time.time() - start_time\n",
        "print('Time Consumed to predict test data: ',time2)"
      ],
      "execution_count": 40,
      "outputs": [
        {
          "output_type": "stream",
          "text": [
            "Time Consumed to predict test data:  4.683665990829468\n"
          ],
          "name": "stdout"
        }
      ]
    },
    {
      "cell_type": "code",
      "metadata": {
        "id": "jb02Qp9Drcl2",
        "colab_type": "code",
        "colab": {
          "base_uri": "https://localhost:8080/",
          "height": 34
        },
        "outputId": "329d84c1-80b8-4eed-9533-0ed23b5dea96"
      },
      "source": [
        "start_time = time.time()\n",
        "\n",
        "with torch.no_grad():\n",
        "    correct = 0\n",
        "    for i in range(0,len(train_d_t)):\n",
        "        action_label=[]\n",
        "        vid = train_d_t[i].cuda()\n",
        "        action_label.append(int(labels[i])-1)\n",
        "        action_label = torch.LongTensor(action_label).cuda()\n",
        "        \n",
        "        model.hidden = model.init_hidden()\n",
        "        pred = model(vid)\n",
        "        _, predicted_label = torch.max(pred.data, 1)\n",
        "        correct += (predicted_label == action_label).sum().item()\n",
        "    \n",
        "    accuracy_train = correct/len(train_d_t)\n",
        "time3 = time.time() - start_time\n",
        "print('Time Consumed to predict train data: ',time3)"
      ],
      "execution_count": 41,
      "outputs": [
        {
          "output_type": "stream",
          "text": [
            "Time Consumed to predict train data:  11.848022222518921\n"
          ],
          "name": "stdout"
        }
      ]
    },
    {
      "cell_type": "markdown",
      "metadata": {
        "colab_type": "text",
        "id": "80ZUeqnGv48f"
      },
      "source": [
        "* ##### **Print the train and test accuracy of your model** "
      ]
    },
    {
      "cell_type": "code",
      "metadata": {
        "colab_type": "code",
        "id": "UMMXAjMjv4g5",
        "outputId": "00c57287-343b-40c6-8caf-315fba07ced7",
        "colab": {
          "base_uri": "https://localhost:8080/",
          "height": 51
        }
      },
      "source": [
        "# Don't hardcode the train and test accuracy\n",
        "print('Training accuracy is %2.3f %% :' %(accuracy_train*100) )\n",
        "print('Test accuracy is %2.3f %%:' %(accuracy_test*100) )"
      ],
      "execution_count": 42,
      "outputs": [
        {
          "output_type": "stream",
          "text": [
            "Training accuracy is 100.000 % :\n",
            "Test accuracy is 81.914 %:\n"
          ],
          "name": "stdout"
        }
      ]
    },
    {
      "cell_type": "markdown",
      "metadata": {
        "colab_type": "text",
        "id": "eesNQn6FYKQz"
      },
      "source": [
        "* ##### **Print the train and test and test accuracy of SVM** "
      ]
    },
    {
      "cell_type": "markdown",
      "metadata": {
        "id": "uZLabekj5WkK",
        "colab_type": "text"
      },
      "source": [
        "Reshaping the Data: feature of 25 images into one vector"
      ]
    },
    {
      "cell_type": "code",
      "metadata": {
        "id": "znVSBouAfswz",
        "colab_type": "code",
        "colab": {}
      },
      "source": [
        "train_svm = torch.FloatTensor(train).view(2409, 102400)\n",
        "test_svm = torch.FloatTensor(test).view(951, 102400)\n",
        "tr_labels_svm = [int(i)-1 for i in train_label] \n",
        "testlbs_svm = [int(i)-1 for i in test_label] \n"
      ],
      "execution_count": 0,
      "outputs": []
    },
    {
      "cell_type": "code",
      "metadata": {
        "id": "CWE2eGFEc3Tl",
        "colab_type": "code",
        "colab": {
          "base_uri": "https://localhost:8080/",
          "height": 88
        },
        "outputId": "a8ef8c0f-9d7d-4da6-d6ff-08114dc549ad"
      },
      "source": [
        "from sklearn.svm import SVC\n",
        "start_time = time.time()\n",
        "svm_model = SVC()\n",
        "svm_model.fit(train_svm, tr_labels_svm)\n",
        "time4 = time.time() - start_time\n",
        "print('Time Consumed to train the SVM Model: ',time4)"
      ],
      "execution_count": 11,
      "outputs": [
        {
          "output_type": "stream",
          "text": [
            "/usr/local/lib/python3.6/dist-packages/sklearn/svm/base.py:193: FutureWarning: The default value of gamma will change from 'auto' to 'scale' in version 0.22 to account better for unscaled features. Set gamma explicitly to 'auto' or 'scale' to avoid this warning.\n",
            "  \"avoid this warning.\", FutureWarning)\n"
          ],
          "name": "stderr"
        },
        {
          "output_type": "stream",
          "text": [
            "Time Consumed to train the SVM Model:  1193.7089142799377\n"
          ],
          "name": "stdout"
        }
      ]
    },
    {
      "cell_type": "code",
      "metadata": {
        "id": "F9ePnblZgZbb",
        "colab_type": "code",
        "colab": {
          "base_uri": "https://localhost:8080/",
          "height": 34
        },
        "outputId": "1641814c-d84d-485f-96f3-930224b9a5e1"
      },
      "source": [
        "start_time = time.time()\n",
        "pred = svm_model.predict(test_svm)\n",
        "time5 = time.time() - start_time\n",
        "print('Time Consumed to predict test data using SVM Model: ',time5)"
      ],
      "execution_count": 48,
      "outputs": [
        {
          "output_type": "stream",
          "text": [
            "Time Consumed to predict test data using SVM Model:  400.33932065963745\n"
          ],
          "name": "stdout"
        }
      ]
    },
    {
      "cell_type": "code",
      "metadata": {
        "id": "2TH_D3lRk1lI",
        "colab_type": "code",
        "colab": {
          "base_uri": "https://localhost:8080/",
          "height": 34
        },
        "outputId": "fb89f813-c0c8-43c9-988d-a484676e6b93"
      },
      "source": [
        "start_time = time.time()\n",
        "train_pred = svm_model.predict(train_svm)\n",
        "time6 = time.time() - start_time\n",
        "print('Time Consumed to predict train data using SVM Model: ',time6)"
      ],
      "execution_count": 16,
      "outputs": [
        {
          "output_type": "stream",
          "text": [
            "Time Consumed to predict train data using SVM Model:  1044.6530919075012\n"
          ],
          "name": "stdout"
        }
      ]
    },
    {
      "cell_type": "code",
      "metadata": {
        "colab_type": "code",
        "id": "ip87hPqTYJtr",
        "outputId": "070dd41f-9efa-4893-b623-cf4dbcf7a6da",
        "colab": {
          "base_uri": "https://localhost:8080/",
          "height": 51
        }
      },
      "source": [
        "# Don't hardcode the train and test accuracy\n",
        "print('Training accuracy is %2.3f %% :' %(accuracy_score(train_pred, tr_labels_svm)*100) )\n",
        "print('Test accuracy is %2.3f %% :' %(accuracy_score(pred, testlbs_svm)*100) )"
      ],
      "execution_count": 49,
      "outputs": [
        {
          "output_type": "stream",
          "text": [
            "Training accuracy is 99.958 % :\n",
            "Test accuracy is 79.811 % :\n"
          ],
          "name": "stdout"
        }
      ]
    },
    {
      "cell_type": "markdown",
      "metadata": {
        "colab_type": "text",
        "id": "cL4Y3nHBkwmb"
      },
      "source": [
        "## **Problem 4.** Report"
      ]
    },
    {
      "cell_type": "markdown",
      "metadata": {
        "id": "iz6TtNAJ8o8P",
        "colab_type": "text"
      },
      "source": [
        "Time Consumptions"
      ]
    },
    {
      "cell_type": "code",
      "metadata": {
        "id": "Bvtk-DoZ8cIX",
        "colab_type": "code",
        "colab": {
          "base_uri": "https://localhost:8080/",
          "height": 221
        },
        "outputId": "e5c24e9b-8f13-4da6-bd92-9b50f68de244"
      },
      "source": [
        "print('\\nFor LSTM:\\n')\n",
        "print('Time Consumed to train the model: ',time1)\n",
        "print('Time Consumed to predict test data: ',time2)\n",
        "print('Time Consumed to predict train data: ',time3)\n",
        "print('\\nFor SVM:\\n')\n",
        "print('Time Consumed to train the SVM Model: ',time4)\n",
        "print('Time Consumed to predict test data using SVM Model: ',time5)\n",
        "print('Time Consumed to predict train data using SVM Model: ',time6)"
      ],
      "execution_count": 51,
      "outputs": [
        {
          "output_type": "stream",
          "text": [
            "\n",
            "For LSTM:\n",
            "\n",
            "Time Consumed to train the model:  332.0369248390198\n",
            "Time Consumed to predict test data:  4.683665990829468\n",
            "Time Consumed to predict train data:  11.848022222518921\n",
            "\n",
            "For SVM:\n",
            "\n",
            "Time Consumed to train the SVM Model:  1193.7089142799377\n",
            "Time Consumed to predict test data using SVM Model:  400.33932065963745\n",
            "Time Consumed to predict train data using SVM Model:  1044.6530919075012\n"
          ],
          "name": "stdout"
        }
      ]
    },
    {
      "cell_type": "markdown",
      "metadata": {
        "id": "kX7GqNmI9E9C",
        "colab_type": "text"
      },
      "source": [
        "Accuracies"
      ]
    },
    {
      "cell_type": "code",
      "metadata": {
        "id": "_Bwzgz2b9Mmv",
        "colab_type": "code",
        "colab": {
          "base_uri": "https://localhost:8080/",
          "height": 187
        },
        "outputId": "6a820812-d3e7-4dd6-8ef0-cab061d79565"
      },
      "source": [
        "print('\\nFor LSTM:\\n')\n",
        "print('Training accuracy is %2.3f %% :' %(accuracy_train*100) )\n",
        "print('Test accuracy is %2.3f %%:' %(accuracy_test*100) )\n",
        "print('\\nFor SVM:\\n')\n",
        "print('Training accuracy is %2.3f %% :' %(accuracy_score(train_pred, tr_labels_svm)*100) )\n",
        "print('Test accuracy is %2.3f %% :' %(accuracy_score(pred, testlbs_svm)*100) )"
      ],
      "execution_count": 50,
      "outputs": [
        {
          "output_type": "stream",
          "text": [
            "\n",
            "For LSTM:\n",
            "\n",
            "Training accuracy is 100.000 % :\n",
            "Test accuracy is 81.914 %:\n",
            "\n",
            "For SVM:\n",
            "\n",
            "Training accuracy is 99.958 % :\n",
            "Test accuracy is 79.811 % :\n"
          ],
          "name": "stdout"
        }
      ]
    },
    {
      "cell_type": "markdown",
      "metadata": {
        "id": "JbzpDeRRNuHj",
        "colab_type": "text"
      },
      "source": [
        "## **Bonus**\n"
      ]
    },
    {
      "cell_type": "markdown",
      "metadata": {
        "colab_type": "text",
        "id": "jPrhLzuyN-rr"
      },
      "source": [
        "* ##### **Print the size of your training and test data**"
      ]
    },
    {
      "cell_type": "code",
      "metadata": {
        "id": "b8IR6zrwOENz",
        "colab_type": "code",
        "colab": {}
      },
      "source": [
        "# Don't hardcode the shape of train and test data\n",
        "print('Shape of training data is :', )\n",
        "print('Shape of test/validation data is :', )"
      ],
      "execution_count": 0,
      "outputs": []
    },
    {
      "cell_type": "markdown",
      "metadata": {
        "colab_type": "text",
        "id": "GAakVg8-OE_j"
      },
      "source": [
        "* ##### **Modelling and evaluation**"
      ]
    },
    {
      "cell_type": "code",
      "metadata": {
        "id": "QHbPzkcoObLb",
        "colab_type": "code",
        "colab": {}
      },
      "source": [
        "#Write your code for modelling and evaluation"
      ],
      "execution_count": 0,
      "outputs": []
    },
    {
      "cell_type": "markdown",
      "metadata": {
        "colab_type": "text",
        "id": "vb4Wlzw2jYcJ"
      },
      "source": [
        "## Submission\n",
        "---\n",
        "**Runnable source code in ipynb file and a pdf report are required**.\n",
        "\n",
        "The report should be of 3 to 4 pages describing what you have done and learned in this homework and report performance of your model. If you have tried multiple methods, please compare your results. If you are using any external code, please cite it in your report. Note that this homework is designed to help you explore and get familiar with the techniques. The final grading will be largely based on your prediction accuracy and the different methods you tried (different architectures and parameters).\n",
        "\n",
        "Please indicate clearly in your report what model you have tried, what techniques you applied to improve the performance and report their accuracies. The report should be concise and include the highlights of your efforts.\n",
        "The naming convention for report is **Surname_Givenname_SBUID_report*.pdf**\n",
        "\n",
        "When submitting your .zip file through blackboard, please\n",
        "-- name your .zip file as **Surname_Givenname_SBUID_hw*.zip**.\n",
        "\n",
        "This zip file should include:\n",
        "```\n",
        "Surname_Givenname_SBUID_hw*\n",
        "        |---Surname_Givenname_SBUID_hw*.ipynb\n",
        "        |---Surname_Givenname_SBUID_hw*.pdf\n",
        "        |---Surname_Givenname_SBUID_report*.pdf\n",
        "```\n",
        "\n",
        "For instance, student Michael Jordan should submit a zip file named \"Jordan_Michael_111134567_hw5.zip\" for homework5 in this structure:\n",
        "```\n",
        "Jordan_Michael_111134567_hw5\n",
        "        |---Jordan_Michael_111134567_hw5.ipynb\n",
        "        |---Jordan_Michael_111134567_hw5.pdf\n",
        "        |---Jordan_Michael_111134567_report*.pdf\n",
        "```\n",
        "\n",
        "The **Surname_Givenname_SBUID_hw*.pdf** should include a **google shared link**. To generate the **google shared link**, first create a folder named **Surname_Givenname_SBUID_hw*** in your Google Drive with your Stony Brook account. \n",
        "\n",
        "Then right click this folder, click ***Get shareable link***, in the People textfield, enter two TA's emails: ***bo.cao.1@stonybrook.edu*** and ***sayontan.ghosh@stonybrook.edu***. Make sure that TAs who have the link **can edit**, ***not just*** **can view**, and also **uncheck** the **Notify people** box.\n",
        "\n",
        "Colab has a good feature of version control, you should take advantage of this to save your work properly. However, the timestamp of the submission made in blackboard is the only one that we consider for grading. To be more specific, we will only grade the version of your code right before the timestamp of the submission made in blackboard. \n",
        "\n",
        "You are encouraged to post and answer questions on Piazza. Based on the amount of email that we have received in past years, there might be dealys in replying to personal emails. Please ask questions on Piazza and send emails only for personal issues.\n",
        "\n",
        "Be aware that your code will undergo plagiarism check both vertically and horizontally. Please do your own work."
      ]
    }
  ]
}